{
 "cells": [
  {
   "cell_type": "code",
   "execution_count": 1,
   "metadata": {
    "collapsed": true,
    "pycharm": {
     "name": "#%%\n"
    }
   },
   "outputs": [],
   "source": [
    "import cv2 as cv\n",
    "from matplotlib import pyplot as plt\n",
    "import numpy as np\n",
    "\n",
    "file = r\"E:\\MISC\\[Be]2019.03.15 No.1739 Nancy[58P306M]\\0015.jpg\"\n",
    "file2 = r\"E:\\MISC\\[Be]2019.03.15 No.1739 Nancy[58P306M]\\0053.jpg\"\n",
    "file3 = r\"E:\\MISC\\Image\\20190606190251.jpg\"\n",
    "file4 = r\"E:\\MISC\\Image\\121_3_0ccfb0c71b2ffef.jpg\"\n",
    "img = cv.imread(file4)\n",
    "# cv.imshow('ishow',img)\n",
    "# cv.waitKey(0)"
   ]
  },
  {
   "cell_type": "code",
   "execution_count": null,
   "outputs": [],
   "source": [
    "plt.imshow(img)"
   ],
   "metadata": {
    "collapsed": false,
    "pycharm": {
     "name": "#%%\n"
    }
   }
  },
  {
   "cell_type": "code",
   "execution_count": null,
   "outputs": [],
   "source": [
    "img=cv.cvtColor(img,cv.COLOR_BGR2RGB)\n",
    "plt.imshow(img)"
   ],
   "metadata": {
    "collapsed": false,
    "pycharm": {
     "name": "#%%\n"
    }
   }
  },
  {
   "cell_type": "code",
   "execution_count": null,
   "outputs": [],
   "source": [
    "cv.imshow('ishow',img)\n",
    "cv.waitKey(0)"
   ],
   "metadata": {
    "collapsed": false,
    "pycharm": {
     "name": "#%%\n"
    }
   }
  },
  {
   "cell_type": "code",
   "execution_count": 4,
   "outputs": [
    {
     "data": {
      "text/plain": "(390, 700, 3)"
     },
     "execution_count": 4,
     "metadata": {},
     "output_type": "execute_result"
    }
   ],
   "source": [
    "img.shape"
   ],
   "metadata": {
    "collapsed": false,
    "pycharm": {
     "name": "#%%\n"
    }
   }
  },
  {
   "cell_type": "code",
   "execution_count": null,
   "outputs": [],
   "source": [
    "ord('a')"
   ],
   "metadata": {
    "collapsed": false,
    "pycharm": {
     "name": "#%%\n",
     "is_executing": true
    }
   }
  },
  {
   "cell_type": "code",
   "execution_count": null,
   "outputs": [],
   "source": [
    "# 缩小图片\n",
    "h,w = img.shape[:2]\n",
    "scale =0.2\n",
    "dsize = int(scale*w), int(scale*h)\n",
    "img = cv.resize(img, dsize, interpolation=cv.INTER_LINEAR)\n",
    "plt.imshow(img)"
   ],
   "metadata": {
    "collapsed": false,
    "pycharm": {
     "name": "#%%\n",
     "is_executing": true
    }
   }
  },
  {
   "cell_type": "code",
   "execution_count": null,
   "outputs": [
    {
     "name": "stdout",
     "output_type": "stream",
     "text": [
      "[[420   6  42  42]]\n"
     ]
    }
   ],
   "source": [
    "# 人脸识别\n",
    "gray =cv.cvtColor(img,cv.COLOR_BGR2GRAY)\n",
    "\n",
    "classifier = cv.CascadeClassifier(r\"C:\\Users\\HuiLing\\anaconda3\\envs\\opencv\\Library\\etc\\haarcascades\\haarcascade_frontalface_alt.xml\")\n",
    "faces = classifier.detectMultiScale(gray,scaleFactor=1.05, minNeighbors=0 )\n",
    "\n",
    "print(faces)\n",
    "for (x,y,w,h) in faces:\n",
    "    cv.rectangle(img,(x,y),(x+w,y+h),(0,0,255))\n",
    "\n",
    "cv.imshow(\"img\",img)\n",
    "cv.waitKey(0)\n",
    "\n",
    "img = cv.cvtColor(img,cv.COLOR_BGR2RGB)\n",
    "plt.imshow(img)\n",
    "plt.hlines(100,50,150,(1,0,0,1))\n",
    "plt.title('beauty')\n",
    "plt.xticks([]), plt.yticks([])\n",
    "\n"
   ],
   "metadata": {
    "collapsed": false,
    "pycharm": {
     "name": "#%%\n"
    }
   }
  },
  {
   "cell_type": "code",
   "execution_count": 2,
   "outputs": [
    {
     "name": "stderr",
     "output_type": "stream",
     "text": [
      "No handles with labels found to put in legend.\n"
     ]
    },
    {
     "name": "stdout",
     "output_type": "stream",
     "text": [
      "[1.         1.88888889 2.77777778 3.66666667 4.55555556 5.44444444\n",
      " 6.33333333 7.22222222 8.11111111 9.        ]\n"
     ]
    },
    {
     "data": {
      "text/plain": "<Figure size 432x288 with 1 Axes>",
      "image/png": "[encoded data removed]"
     },
     "metadata": {
      "needs_background": "light"
     },
     "output_type": "display_data"
    }
   ],
   "source": [
    "a=np.linspace(1,9,10)\n",
    "\n",
    "y=a**2\n",
    "z=5*a+2\n",
    "print(a)\n",
    "\n",
    "plt.plot(a,y,marker='o')\n",
    "\n",
    "plt.plot(a,z)\n",
    "\n",
    "plt.legend()\n",
    "\n",
    "plt.show()\n"
   ],
   "metadata": {
    "collapsed": false,
    "pycharm": {
     "name": "#%%\n"
    }
   }
  },
  {
   "cell_type": "code",
   "execution_count": 2,
   "outputs": [],
   "source": [],
   "metadata": {
    "collapsed": false,
    "pycharm": {
     "name": "#%%\n"
    }
   }
  }
 ],
 "metadata": {
  "kernelspec": {
   "display_name": "Python 3",
   "language": "python",
   "name": "python3"
  },
  "language_info": {
   "codemirror_mode": {
    "name": "ipython",
    "version": 2
   },
   "file_extension": ".py",
   "mimetype": "text/x-python",
   "name": "python",
   "nbconvert_exporter": "python",
   "pygments_lexer": "ipython2",
   "version": "2.7.6"
  }
 },
 "nbformat": 4,
 "nbformat_minor": 0
}